{
 "cells": [
  {
   "cell_type": "markdown",
   "metadata": {
    "id": "tz9T1-f2tp7u"
   },
   "source": [
    "В прошлом отчете мы провели кластеризацию пользователей. Алгоритм DBSCAN, на мой взгляд, отлично справился с этой задачей и разделил пользователей на 2 большие группы. Попробуем реализовать классификатор, используя полученные метки из кластеризации"
   ]
  },
  {
   "cell_type": "code",
   "execution_count": 10,
   "metadata": {
    "colab": {
     "base_uri": "https://localhost:8080/",
     "height": 206
    },
    "executionInfo": {
     "elapsed": 778,
     "status": "ok",
     "timestamp": 1701977121689,
     "user": {
      "displayName": "Алексей Курлевский",
      "userId": "01771388844574829667"
     },
     "user_tz": -180
    },
    "id": "vnQSvOeOpmze",
    "outputId": "9dc207a4-36df-4728-e621-529f33f41f6a"
   },
   "outputs": [
    {
     "data": {
      "text/html": [
       "\n",
       "  <div id=\"df-46e31349-bccb-4f5d-93c6-22e87174a48b\" class=\"colab-df-container\">\n",
       "    <div>\n",
       "<style scoped>\n",
       "    .dataframe tbody tr th:only-of-type {\n",
       "        vertical-align: middle;\n",
       "    }\n",
       "\n",
       "    .dataframe tbody tr th {\n",
       "        vertical-align: top;\n",
       "    }\n",
       "\n",
       "    .dataframe thead th {\n",
       "        text-align: right;\n",
       "    }\n",
       "</style>\n",
       "<table border=\"1\" class=\"dataframe\">\n",
       "  <thead>\n",
       "    <tr style=\"text-align: right;\">\n",
       "      <th></th>\n",
       "      <th>eid</th>\n",
       "      <th>t</th>\n",
       "      <th>user</th>\n",
       "      <th>tn</th>\n",
       "      <th>geo</th>\n",
       "      <th>cnethash</th>\n",
       "      <th>devtype</th>\n",
       "      <th>brotype</th>\n",
       "      <th>bsize</th>\n",
       "      <th>siteid</th>\n",
       "      <th>domhash</th>\n",
       "      <th>urlhash</th>\n",
       "    </tr>\n",
       "  </thead>\n",
       "  <tbody>\n",
       "    <tr>\n",
       "      <th>0</th>\n",
       "      <td>347854231724</td>\n",
       "      <td>1050848</td>\n",
       "      <td>21</td>\n",
       "      <td>0</td>\n",
       "      <td>3818162082</td>\n",
       "      <td>8335634595980108828</td>\n",
       "      <td>2</td>\n",
       "      <td>2</td>\n",
       "      <td>1642713892</td>\n",
       "      <td>1732823002</td>\n",
       "      <td>17261330804588317013</td>\n",
       "      <td>16521739535555380904</td>\n",
       "    </tr>\n",
       "    <tr>\n",
       "      <th>1</th>\n",
       "      <td>329455126064</td>\n",
       "      <td>694606</td>\n",
       "      <td>36</td>\n",
       "      <td>0</td>\n",
       "      <td>3818162082</td>\n",
       "      <td>2563013194488493467</td>\n",
       "      <td>3</td>\n",
       "      <td>2</td>\n",
       "      <td>2286540757</td>\n",
       "      <td>673473971</td>\n",
       "      <td>8781226038565509786</td>\n",
       "      <td>14273372146021722044</td>\n",
       "    </tr>\n",
       "    <tr>\n",
       "      <th>2</th>\n",
       "      <td>329455254926</td>\n",
       "      <td>694659</td>\n",
       "      <td>36</td>\n",
       "      <td>0</td>\n",
       "      <td>3818162082</td>\n",
       "      <td>2563013194488493467</td>\n",
       "      <td>3</td>\n",
       "      <td>2</td>\n",
       "      <td>2286540757</td>\n",
       "      <td>673473971</td>\n",
       "      <td>8781226038565509786</td>\n",
       "      <td>14273372146021722044</td>\n",
       "    </tr>\n",
       "    <tr>\n",
       "      <th>3</th>\n",
       "      <td>329455273798</td>\n",
       "      <td>694596</td>\n",
       "      <td>36</td>\n",
       "      <td>0</td>\n",
       "      <td>3818162082</td>\n",
       "      <td>2563013194488493467</td>\n",
       "      <td>3</td>\n",
       "      <td>2</td>\n",
       "      <td>3529439892</td>\n",
       "      <td>673473971</td>\n",
       "      <td>8781226038565509786</td>\n",
       "      <td>14273372146021722044</td>\n",
       "    </tr>\n",
       "    <tr>\n",
       "      <th>4</th>\n",
       "      <td>329455293738</td>\n",
       "      <td>694608</td>\n",
       "      <td>36</td>\n",
       "      <td>0</td>\n",
       "      <td>3818162082</td>\n",
       "      <td>2563013194488493467</td>\n",
       "      <td>3</td>\n",
       "      <td>2</td>\n",
       "      <td>390304810</td>\n",
       "      <td>673473971</td>\n",
       "      <td>8781226038565509786</td>\n",
       "      <td>14273372146021722044</td>\n",
       "    </tr>\n",
       "  </tbody>\n",
       "</table>\n",
       "</div>\n",
       "    <div class=\"colab-df-buttons\">\n",
       "\n",
       "  <div class=\"colab-df-container\">\n",
       "    <button class=\"colab-df-convert\" onclick=\"convertToInteractive('df-46e31349-bccb-4f5d-93c6-22e87174a48b')\"\n",
       "            title=\"Convert this dataframe to an interactive table.\"\n",
       "            style=\"display:none;\">\n",
       "\n",
       "  <svg xmlns=\"http://www.w3.org/2000/svg\" height=\"24px\" viewBox=\"0 -960 960 960\">\n",
       "    <path d=\"M120-120v-720h720v720H120Zm60-500h600v-160H180v160Zm220 220h160v-160H400v160Zm0 220h160v-160H400v160ZM180-400h160v-160H180v160Zm440 0h160v-160H620v160ZM180-180h160v-160H180v160Zm440 0h160v-160H620v160Z\"/>\n",
       "  </svg>\n",
       "    </button>\n",
       "\n",
       "  <style>\n",
       "    .colab-df-container {\n",
       "      display:flex;\n",
       "      gap: 12px;\n",
       "    }\n",
       "\n",
       "    .colab-df-convert {\n",
       "      background-color: #E8F0FE;\n",
       "      border: none;\n",
       "      border-radius: 50%;\n",
       "      cursor: pointer;\n",
       "      display: none;\n",
       "      fill: #1967D2;\n",
       "      height: 32px;\n",
       "      padding: 0 0 0 0;\n",
       "      width: 32px;\n",
       "    }\n",
       "\n",
       "    .colab-df-convert:hover {\n",
       "      background-color: #E2EBFA;\n",
       "      box-shadow: 0px 1px 2px rgba(60, 64, 67, 0.3), 0px 1px 3px 1px rgba(60, 64, 67, 0.15);\n",
       "      fill: #174EA6;\n",
       "    }\n",
       "\n",
       "    .colab-df-buttons div {\n",
       "      margin-bottom: 4px;\n",
       "    }\n",
       "\n",
       "    [theme=dark] .colab-df-convert {\n",
       "      background-color: #3B4455;\n",
       "      fill: #D2E3FC;\n",
       "    }\n",
       "\n",
       "    [theme=dark] .colab-df-convert:hover {\n",
       "      background-color: #434B5C;\n",
       "      box-shadow: 0px 1px 3px 1px rgba(0, 0, 0, 0.15);\n",
       "      filter: drop-shadow(0px 1px 2px rgba(0, 0, 0, 0.3));\n",
       "      fill: #FFFFFF;\n",
       "    }\n",
       "  </style>\n",
       "\n",
       "    <script>\n",
       "      const buttonEl =\n",
       "        document.querySelector('#df-46e31349-bccb-4f5d-93c6-22e87174a48b button.colab-df-convert');\n",
       "      buttonEl.style.display =\n",
       "        google.colab.kernel.accessAllowed ? 'block' : 'none';\n",
       "\n",
       "      async function convertToInteractive(key) {\n",
       "        const element = document.querySelector('#df-46e31349-bccb-4f5d-93c6-22e87174a48b');\n",
       "        const dataTable =\n",
       "          await google.colab.kernel.invokeFunction('convertToInteractive',\n",
       "                                                    [key], {});\n",
       "        if (!dataTable) return;\n",
       "\n",
       "        const docLinkHtml = 'Like what you see? Visit the ' +\n",
       "          '<a target=\"_blank\" href=https://colab.research.google.com/notebooks/data_table.ipynb>data table notebook</a>'\n",
       "          + ' to learn more about interactive tables.';\n",
       "        element.innerHTML = '';\n",
       "        dataTable['output_type'] = 'display_data';\n",
       "        await google.colab.output.renderOutput(dataTable, element);\n",
       "        const docLink = document.createElement('div');\n",
       "        docLink.innerHTML = docLinkHtml;\n",
       "        element.appendChild(docLink);\n",
       "      }\n",
       "    </script>\n",
       "  </div>\n",
       "\n",
       "\n",
       "<div id=\"df-48da5058-f345-4228-9c64-82b1c79863a6\">\n",
       "  <button class=\"colab-df-quickchart\" onclick=\"quickchart('df-48da5058-f345-4228-9c64-82b1c79863a6')\"\n",
       "            title=\"Suggest charts\"\n",
       "            style=\"display:none;\">\n",
       "\n",
       "<svg xmlns=\"http://www.w3.org/2000/svg\" height=\"24px\"viewBox=\"0 0 24 24\"\n",
       "     width=\"24px\">\n",
       "    <g>\n",
       "        <path d=\"M19 3H5c-1.1 0-2 .9-2 2v14c0 1.1.9 2 2 2h14c1.1 0 2-.9 2-2V5c0-1.1-.9-2-2-2zM9 17H7v-7h2v7zm4 0h-2V7h2v10zm4 0h-2v-4h2v4z\"/>\n",
       "    </g>\n",
       "</svg>\n",
       "  </button>\n",
       "\n",
       "<style>\n",
       "  .colab-df-quickchart {\n",
       "      --bg-color: #E8F0FE;\n",
       "      --fill-color: #1967D2;\n",
       "      --hover-bg-color: #E2EBFA;\n",
       "      --hover-fill-color: #174EA6;\n",
       "      --disabled-fill-color: #AAA;\n",
       "      --disabled-bg-color: #DDD;\n",
       "  }\n",
       "\n",
       "  [theme=dark] .colab-df-quickchart {\n",
       "      --bg-color: #3B4455;\n",
       "      --fill-color: #D2E3FC;\n",
       "      --hover-bg-color: #434B5C;\n",
       "      --hover-fill-color: #FFFFFF;\n",
       "      --disabled-bg-color: #3B4455;\n",
       "      --disabled-fill-color: #666;\n",
       "  }\n",
       "\n",
       "  .colab-df-quickchart {\n",
       "    background-color: var(--bg-color);\n",
       "    border: none;\n",
       "    border-radius: 50%;\n",
       "    cursor: pointer;\n",
       "    display: none;\n",
       "    fill: var(--fill-color);\n",
       "    height: 32px;\n",
       "    padding: 0;\n",
       "    width: 32px;\n",
       "  }\n",
       "\n",
       "  .colab-df-quickchart:hover {\n",
       "    background-color: var(--hover-bg-color);\n",
       "    box-shadow: 0 1px 2px rgba(60, 64, 67, 0.3), 0 1px 3px 1px rgba(60, 64, 67, 0.15);\n",
       "    fill: var(--button-hover-fill-color);\n",
       "  }\n",
       "\n",
       "  .colab-df-quickchart-complete:disabled,\n",
       "  .colab-df-quickchart-complete:disabled:hover {\n",
       "    background-color: var(--disabled-bg-color);\n",
       "    fill: var(--disabled-fill-color);\n",
       "    box-shadow: none;\n",
       "  }\n",
       "\n",
       "  .colab-df-spinner {\n",
       "    border: 2px solid var(--fill-color);\n",
       "    border-color: transparent;\n",
       "    border-bottom-color: var(--fill-color);\n",
       "    animation:\n",
       "      spin 1s steps(1) infinite;\n",
       "  }\n",
       "\n",
       "  @keyframes spin {\n",
       "    0% {\n",
       "      border-color: transparent;\n",
       "      border-bottom-color: var(--fill-color);\n",
       "      border-left-color: var(--fill-color);\n",
       "    }\n",
       "    20% {\n",
       "      border-color: transparent;\n",
       "      border-left-color: var(--fill-color);\n",
       "      border-top-color: var(--fill-color);\n",
       "    }\n",
       "    30% {\n",
       "      border-color: transparent;\n",
       "      border-left-color: var(--fill-color);\n",
       "      border-top-color: var(--fill-color);\n",
       "      border-right-color: var(--fill-color);\n",
       "    }\n",
       "    40% {\n",
       "      border-color: transparent;\n",
       "      border-right-color: var(--fill-color);\n",
       "      border-top-color: var(--fill-color);\n",
       "    }\n",
       "    60% {\n",
       "      border-color: transparent;\n",
       "      border-right-color: var(--fill-color);\n",
       "    }\n",
       "    80% {\n",
       "      border-color: transparent;\n",
       "      border-right-color: var(--fill-color);\n",
       "      border-bottom-color: var(--fill-color);\n",
       "    }\n",
       "    90% {\n",
       "      border-color: transparent;\n",
       "      border-bottom-color: var(--fill-color);\n",
       "    }\n",
       "  }\n",
       "</style>\n",
       "\n",
       "  <script>\n",
       "    async function quickchart(key) {\n",
       "      const quickchartButtonEl =\n",
       "        document.querySelector('#' + key + ' button');\n",
       "      quickchartButtonEl.disabled = true;  // To prevent multiple clicks.\n",
       "      quickchartButtonEl.classList.add('colab-df-spinner');\n",
       "      try {\n",
       "        const charts = await google.colab.kernel.invokeFunction(\n",
       "            'suggestCharts', [key], {});\n",
       "      } catch (error) {\n",
       "        console.error('Error during call to suggestCharts:', error);\n",
       "      }\n",
       "      quickchartButtonEl.classList.remove('colab-df-spinner');\n",
       "      quickchartButtonEl.classList.add('colab-df-quickchart-complete');\n",
       "    }\n",
       "    (() => {\n",
       "      let quickchartButtonEl =\n",
       "        document.querySelector('#df-48da5058-f345-4228-9c64-82b1c79863a6 button');\n",
       "      quickchartButtonEl.style.display =\n",
       "        google.colab.kernel.accessAllowed ? 'block' : 'none';\n",
       "    })();\n",
       "  </script>\n",
       "</div>\n",
       "    </div>\n",
       "  </div>\n"
      ],
      "text/plain": [
       "            eid        t  user  tn         geo             cnethash  devtype  \\\n",
       "0  347854231724  1050848    21   0  3818162082  8335634595980108828        2   \n",
       "1  329455126064   694606    36   0  3818162082  2563013194488493467        3   \n",
       "2  329455254926   694659    36   0  3818162082  2563013194488493467        3   \n",
       "3  329455273798   694596    36   0  3818162082  2563013194488493467        3   \n",
       "4  329455293738   694608    36   0  3818162082  2563013194488493467        3   \n",
       "\n",
       "   brotype       bsize      siteid               domhash               urlhash  \n",
       "0        2  1642713892  1732823002  17261330804588317013  16521739535555380904  \n",
       "1        2  2286540757   673473971   8781226038565509786  14273372146021722044  \n",
       "2        2  2286540757   673473971   8781226038565509786  14273372146021722044  \n",
       "3        2  3529439892   673473971   8781226038565509786  14273372146021722044  \n",
       "4        2   390304810   673473971   8781226038565509786  14273372146021722044  "
      ]
     },
     "execution_count": 10,
     "metadata": {},
     "output_type": "execute_result"
    }
   ],
   "source": [
    "import pandas as pd\n",
    "import seaborn as sns\n",
    "import numpy as np\n",
    "import matplotlib.pyplot as plt\n",
    "\n",
    "from sklearn.preprocessing import LabelEncoder\n",
    "from sklearn.preprocessing import StandardScaler\n",
    "from sklearn.preprocessing import MinMaxScaler\n",
    "from sklearn import decomposition\n",
    "from sklearn import metrics\n",
    "from sklearn.cluster import DBSCAN\n",
    "\n",
    "from pickle import dump\n",
    "\n",
    "sns.set(rc={'figure.figsize':(8,6)}, palette=\"muted\")\n",
    "# sns.set_style(\"whitegrid\")\n",
    "\n",
    "df = pd.read_table('../data/test_data.tsv')\n",
    "\n",
    "df.head()"
   ]
  },
  {
   "cell_type": "code",
   "execution_count": 11,
   "metadata": {
    "colab": {
     "base_uri": "https://localhost:8080/"
    },
    "executionInfo": {
     "elapsed": 4111,
     "status": "ok",
     "timestamp": 1701977125774,
     "user": {
      "displayName": "Алексей Курлевский",
      "userId": "01771388844574829667"
     },
     "user_tz": -180
    },
    "id": "-SnwvFuhp-X5",
    "outputId": "69ffa87f-0f51-4015-9d25-7eea2be67a0f"
   },
   "outputs": [
    {
     "name": "stdout",
     "output_type": "stream",
     "text": [
      "Среднее время, требующееся на клик: 789.2948128693369\n",
      "Медианное время, требующееся на клик: 7.0\n",
      "Удалено шумов 80\n"
     ]
    },
    {
     "name": "stderr",
     "output_type": "stream",
     "text": [
      "<ipython-input-11-a1eb6cec13dc>:23: RuntimeWarning: divide by zero encountered in log\n",
      "  df_user_click['log_duration'] = np.log(df_user_click['duration'].values)\n",
      "<ipython-input-11-a1eb6cec13dc>:23: SettingWithCopyWarning: \n",
      "A value is trying to be set on a copy of a slice from a DataFrame.\n",
      "Try using .loc[row_indexer,col_indexer] = value instead\n",
      "\n",
      "See the caveats in the documentation: https://pandas.pydata.org/pandas-docs/stable/user_guide/indexing.html#returning-a-view-versus-a-copy\n",
      "  df_user_click['log_duration'] = np.log(df_user_click['duration'].values)\n"
     ]
    }
   ],
   "source": [
    "def tukey_noise(df, column):\n",
    "    Q1 = df[column].quantile(0.25)\n",
    "    Q3 = df[column].quantile(0.75)\n",
    "    IQR = Q3 - Q1\n",
    "    df = df[(df[column] >= Q1 - 1.5*IQR) & (df[column] <= Q3 + 1.5*IQR)]\n",
    "    return df\n",
    "# Считаем время, требущееся на клик\n",
    "df_sort = df.sort_values(by=['user', 't'], ascending=True, axis=0)\n",
    "df_sort['duration'] = df_sort.groupby(by=['user'])['t'].rolling(window=2).apply(lambda x: x.iloc[1] - x.iloc[0]).values\n",
    "df_sort['flg'] = df_sort.groupby(by=['user'])['tn'].rolling(window=2).apply(lambda x: 1 if x.iloc[1] == 1 and x.iloc[0] == 0 else 0).values\n",
    "df_sort.fillna(value=0, inplace=True)\n",
    "\n",
    "# Убираем записи о показе рекламы. Оставляем только клики\n",
    "df_user_click = df_sort[df_sort['flg'] == 1]\n",
    "mean_val = df_user_click['duration'].mean()\n",
    "median_val = df_user_click['duration'].median()\n",
    "\n",
    "print(f'Среднее время, требующееся на клик: {mean_val}\\nМедианное время, требующееся на клик: {median_val}')\n",
    "\n",
    "n_init = df_user_click.shape[0]\n",
    "\n",
    "# Логарифимруем время на клик, чтобы значения стали больше похожи на нормальное распределение\n",
    "df_user_click['log_duration'] = np.log(df_user_click['duration'].values)\n",
    "df_user_click = tukey_noise(df_user_click, 'log_duration')\n",
    "n_temp = df_user_click.shape[0]\n",
    "print(f'Удалено шумов {n_init - n_temp}')\n",
    "\n",
    "# Выбираем столбцы, которые, по моему мнению, несут наиболее важную информацию и стандартизируем данные\n",
    "df_cluster = df_user_click[['devtype', 'brotype', 'log_duration', 'domhash', 'siteid']]\n",
    "\n",
    "scaler = StandardScaler()\n",
    "minmax = MinMaxScaler()\n",
    "\n",
    "data_scaled = scaler.fit_transform(df_cluster)\n",
    "data_scaled = pd.DataFrame(data=data_scaled, columns=df_cluster.columns, index=df_cluster.index)\n",
    "\n",
    "data_scaled = minmax.fit_transform(data_scaled)\n",
    "data_scaled = pd.DataFrame(data=data_scaled, columns=df_cluster.columns, index=df_cluster.index)\n",
    "\n",
    "\n",
    "pca = decomposition.PCA(n_components=2)\n",
    "X_pca_ratio_2d = pd.DataFrame(pca.fit_transform(data_scaled), columns=([\"col1\", \"col2\"]))\n",
    "# path_pca = './models/decomposition/pca.pkl'\n",
    "# dump(pca, open(path_pca, 'wb'))\n",
    "\n",
    "epsilon = 0.08\n",
    "min_samples = 10\n",
    "\n",
    "dbscan = DBSCAN(eps=epsilon, min_samples=min_samples)\n",
    "dbscan.fit(X_pca_ratio_2d.values)\n",
    "\n",
    "data_scaled['group'] = dbscan.labels_"
   ]
  },
  {
   "cell_type": "markdown",
   "metadata": {
    "id": "WwkfXLHpvSnX"
   },
   "source": [
    "Группы получились сбалансированные. Практически поровну значений как в первой, так и во второй группе. Флаг \"-1\"означает выброс в данных. Такую группу мы классифицировать не будем. Примением классификатор XGBoost."
   ]
  },
  {
   "cell_type": "code",
   "execution_count": 12,
   "metadata": {
    "colab": {
     "base_uri": "https://localhost:8080/"
    },
    "executionInfo": {
     "elapsed": 4,
     "status": "ok",
     "timestamp": 1701977125774,
     "user": {
      "displayName": "Алексей Курлевский",
      "userId": "01771388844574829667"
     },
     "user_tz": -180
    },
    "id": "Kq09syyztXUU",
    "outputId": "18fdd5e5-0b23-4055-c8a9-592673f7cd10"
   },
   "outputs": [
    {
     "data": {
      "text/plain": [
       " 1    768\n",
       " 0    660\n",
       "-1     15\n",
       "Name: group, dtype: int64"
      ]
     },
     "execution_count": 12,
     "metadata": {},
     "output_type": "execute_result"
    }
   ],
   "source": [
    "data_scaled['group'].value_counts()"
   ]
  },
  {
   "cell_type": "code",
   "execution_count": 13,
   "metadata": {
    "executionInfo": {
     "elapsed": 241,
     "status": "ok",
     "timestamp": 1701977187649,
     "user": {
      "displayName": "Алексей Курлевский",
      "userId": "01771388844574829667"
     },
     "user_tz": -180
    },
    "id": "TtpnA0gJq7BU"
   },
   "outputs": [],
   "source": [
    "from sklearn.model_selection import train_test_split\n",
    "\n",
    "data_scaled = data_scaled[data_scaled['group'] != -1]\n",
    "X, y =  data_scaled.iloc[:, :-1],  data_scaled.iloc[:, -1]\n",
    "\n",
    "X_train, X_test, y_train, y_test = train_test_split(X, y, test_size=0.3, random_state=42)"
   ]
  },
  {
   "cell_type": "code",
   "execution_count": 14,
   "metadata": {
    "colab": {
     "base_uri": "https://localhost:8080/"
    },
    "executionInfo": {
     "elapsed": 8,
     "status": "ok",
     "timestamp": 1701977188581,
     "user": {
      "displayName": "Алексей Курлевский",
      "userId": "01771388844574829667"
     },
     "user_tz": -180
    },
    "id": "f-28G_VOtktg",
    "outputId": "0bc06a22-2d18-4cfe-b498-56b2b4cdc218"
   },
   "outputs": [
    {
     "name": "stdout",
     "output_type": "stream",
     "text": [
      "Accuracy: 1.0\n",
      "\n",
      "Classification Report:\n",
      "              precision    recall  f1-score   support\n",
      "\n",
      "           0       1.00      1.00      1.00       190\n",
      "           1       1.00      1.00      1.00       239\n",
      "\n",
      "    accuracy                           1.00       429\n",
      "   macro avg       1.00      1.00      1.00       429\n",
      "weighted avg       1.00      1.00      1.00       429\n",
      "\n"
     ]
    }
   ],
   "source": [
    "import xgboost as xgb\n",
    "from sklearn.metrics import accuracy_score, classification_report\n",
    "\n",
    "\n",
    "model = xgb.XGBClassifier()\n",
    "\n",
    "\n",
    "model.fit(X_train, y_train)\n",
    "\n",
    "predictions = model.predict(X_test)\n",
    "model.save_model('../models/classificator/xgb_model.json')\n",
    "\n",
    "accuracy = accuracy_score(y_test, predictions)\n",
    "\n",
    "print(\"Accuracy:\", accuracy)\n",
    "print(\"\\nClassification Report:\")\n",
    "print(classification_report(y_test, predictions))"
   ]
  },
  {
   "cell_type": "markdown",
   "metadata": {
    "id": "40cIqdPDvvNl"
   },
   "source": [
    "Очень подозрительно, но классифкатор показал 100% точность. При этом подбором параметров модели я не занимался. Скорее всего либо ошибка в данных, либо в подходе к обучению. Рассмотрим классификатор \"случайный лес\"."
   ]
  },
  {
   "cell_type": "code",
   "execution_count": 15,
   "metadata": {
    "colab": {
     "base_uri": "https://localhost:8080/"
    },
    "executionInfo": {
     "elapsed": 582,
     "status": "ok",
     "timestamp": 1701977285981,
     "user": {
      "displayName": "Алексей Курлевский",
      "userId": "01771388844574829667"
     },
     "user_tz": -180
    },
    "id": "9Xfr5k9_xpDC",
    "outputId": "73c69afb-f3ec-486f-88e1-c1db51a8d7ea"
   },
   "outputs": [
    {
     "name": "stdout",
     "output_type": "stream",
     "text": [
      "Точность: 100.00%\n"
     ]
    }
   ],
   "source": [
    "from sklearn.ensemble import RandomForestClassifier\n",
    "clf = RandomForestClassifier(random_state=42)\n",
    "clf.fit(X_train, y_train)\n",
    "\n",
    "y_test_predicted = clf.predict(X_test)\n",
    "from sklearn.metrics import accuracy_score\n",
    "print(\"Точность: {0:.2f}%\".format(accuracy_score(y_test, y_test_predicted)*100))"
   ]
  },
  {
   "cell_type": "markdown",
   "metadata": {
    "id": "wDVGbjtcwH7R"
   },
   "source": [
    "Случайный лес также показал 100% точность. Как мне кажется, такой точностьи не может быть. Вопрос с обучением модели я выношу в доп. исследование.\n",
    "\n",
    "Ответ на вопрос, поставленный в исследовании. В компании были накручены клики. Это видно на графиках, построенных в отчете по класстеризации. В группе 1, очень короткое время клика. Такое поведение присуще ботам, потому что они кликают на рекламу, как только увидят ее. Можно также провести доп исследование, возвращался ли пользователь после клика."
   ]
  },
  {
   "cell_type": "code",
   "execution_count": null,
   "metadata": {
    "id": "IT0C8RLLxoJB"
   },
   "outputs": [],
   "source": []
  }
 ],
 "metadata": {
  "colab": {
   "authorship_tag": "ABX9TyM19buu7cXs9Y203acINXEQ",
   "provenance": []
  },
  "kernelspec": {
   "display_name": "Python 3",
   "language": "python",
   "name": "python3"
  },
  "language_info": {
   "codemirror_mode": {
    "name": "ipython",
    "version": 3
   },
   "file_extension": ".py",
   "mimetype": "text/x-python",
   "name": "python",
   "nbconvert_exporter": "python",
   "pygments_lexer": "ipython3",
   "version": "3.8.5"
  }
 },
 "nbformat": 4,
 "nbformat_minor": 1
}
