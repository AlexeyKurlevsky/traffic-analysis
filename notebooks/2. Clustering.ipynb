{
 "cells": [
  {
   "cell_type": "code",
   "execution_count": null,
   "metadata": {},
   "outputs": [],
   "source": [
    "from sklearn.preprocessing import LabelEncoder\n",
    "from sklearn.preprocessing import StandardScaler\n",
    "from sklearn.preprocessing import MinMaxScaler\n",
    "from sklearn import decomposition\n",
    "from sklearn import metrics\n",
    "from sklearn.cluster import KMeans\n",
    "# from yellowbrick.cluster import KElbowVisualizer\n",
    "# from sklearn.mixture import GaussianMixture\n",
    "\n",
    "df_cluster = df_user_click[['devtype', 'brotype', 'log_duration', 'flg', 'domhash', 'siteid']]\n",
    "\n",
    "scaler = StandardScaler()\n",
    "minmax = MinMaxScaler()\n",
    "\n",
    "data_scaled = scaler.fit_transform(df_cluster)\n",
    "data_scaled = pd.DataFrame(data=data_scaled, columns=df_cluster.columns, index=df_cluster.index)\n",
    "\n",
    "data_scaled = minmax.fit_transform(data_scaled)\n",
    "data_scaled = pd.DataFrame(data=data_scaled, columns=df_cluster.columns, index=df_cluster.index)"
   ]
  },
  {
   "cell_type": "code",
   "execution_count": null,
   "metadata": {},
   "outputs": [],
   "source": [
    "pca = decomposition.PCA(n_components=3)\n",
    "X_pca_ratio_3d = pd.DataFrame(pca.fit_transform(data_scaled), columns=([\"col1\", \"col2\", \"col3\"]))\n",
    "\n",
    "x =X_pca_ratio_3d[\"col1\"]\n",
    "y =X_pca_ratio_3d[\"col2\"]\n",
    "z =X_pca_ratio_3d[\"col3\"]\n",
    "\n",
    "#To plot\n",
    "fig = plt.figure(figsize=(20,10))\n",
    "ax = fig.add_subplot(1, 2, 2, projection='3d')\n",
    "ax.scatter(x,y,z, marker=\"o\", cmap='rainbow', alpha=0.7, edgecolors='k')\n",
    "ax.set_title(\"A 3D Projection Of Data In The Reduced Dimension\")\n",
    "\n",
    "pca = decomposition.PCA(n_components=2)\n",
    "X_pca_ratio_2d = pd.DataFrame(pca.fit_transform(data_scaled), columns=([\"col1\", \"col2\"]))\n",
    "\n",
    "x = X_pca_ratio_2d[\"col1\"]\n",
    "y = X_pca_ratio_2d[\"col2\"]\n",
    "\n",
    "ax = fig.add_subplot(1, 2, 1)\n",
    "ax.scatter(x,y, cmap='rainbow', alpha=0.7, edgecolors='k')\n",
    "ax.set_title(\"A 2D Projection Of Data In The Reduced Dimension\")\n",
    "plt.show()"
   ]
  }
 ],
 "metadata": {
  "kernelspec": {
   "display_name": "Python 3",
   "language": "python",
   "name": "python3"
  },
  "language_info": {
   "codemirror_mode": {
    "name": "ipython",
    "version": 3
   },
   "file_extension": ".py",
   "mimetype": "text/x-python",
   "name": "python",
   "nbconvert_exporter": "python",
   "pygments_lexer": "ipython3",
   "version": "3.8.5"
  }
 },
 "nbformat": 4,
 "nbformat_minor": 4
}
